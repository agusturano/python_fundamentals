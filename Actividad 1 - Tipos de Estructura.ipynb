Mi_tupla = ("Agustina", 25, 1.75, "Ingeniera")
type(Mi_tupla)

Mi_lista = list(Mi_tupla)
type(Mi_lista)

Mi_diccionario = {}
for i in range(len(Mi_lista)):
   Mi_diccionario[i+1] = Mi_lista[i]
print(type(Mi_diccionario))
print(Mi_diccionario)
