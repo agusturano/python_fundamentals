Mi_tupla = ("Agustina", 25, "Ingeniera", "Ternium")
type(Mi_tupla)
